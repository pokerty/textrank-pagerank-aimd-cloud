{
 "cells": [
  {
   "cell_type": "markdown",
   "metadata": {},
   "source": [
    "# Import Libraries\n"
   ]
  },
  {
   "cell_type": "code",
   "execution_count": 1,
   "metadata": {},
   "outputs": [
    {
     "name": "stderr",
     "output_type": "stream",
     "text": [
      "[nltk_data] Downloading package punkt to\n",
      "[nltk_data]     /Users/hongpochen/nltk_data...\n",
      "[nltk_data]   Package punkt is already up-to-date!\n",
      "[nltk_data] Downloading package stopwords to\n",
      "[nltk_data]     /Users/hongpochen/nltk_data...\n",
      "[nltk_data]   Package stopwords is already up-to-date!\n"
     ]
    }
   ],
   "source": [
    "import math\n",
    "import networkx as nx\n",
    "import numpy as np\n",
    "import nltk\n",
    "nltk.download('punkt')\n",
    "nltk.download('stopwords')\n",
    "from nltk.tokenize import sent_tokenize, word_tokenize\n",
    "from nltk.corpus import stopwords\n",
    "from sklearn.feature_extraction.text import TfidfVectorizer"
   ]
  },
  {
   "cell_type": "markdown",
   "metadata": {},
   "source": [
    "# Input Text for Summarization (and reference summaries if any)"
   ]
  },
  {
   "cell_type": "code",
   "execution_count": 31,
   "metadata": {},
   "outputs": [],
   "source": [
    "text = \"\"\"Once upon a time, in a small apartment in New York City, there lived a young couple named Jim and Della. They were deeply in love but faced financial hardships. Their love was their greatest treasure, but they longed to give each other special gifts for Christmas.\n",
    "\n",
    "Della had beautiful, flowing hair that reached down to her waist. Jim cherished his old pocket watch, a family heirloom passed down through generations. As Christmas approached, Della knew she had to find the perfect gift for Jim. But with only a few dollars to spare, she wondered how she could afford something meaningful.\n",
    "\n",
    "One day, Della had an idea. She decided to sell her most prized possession: her long, lustrous hair. With the money she received, she went to a jeweler and purchased a platinum fob chain for Jim's pocket watch. She imagined how his eyes would light up when he saw it.\n",
    "\n",
    "Meanwhile, Jim faced the same dilemma. He wanted to surprise Della with something extraordinary. He sold his beloved pocket watch to buy her a set of exquisite combs made of tortoiseshell and jewels. He knew they would look stunning in her hair.\n",
    "\n",
    "On Christmas Eve, Jim and Della exchanged their gifts. Della presented the fob chain to Jim, and he was speechless. But then he handed her the beautifully wrapped box containing the combs. Della's eyes widened with joy.\n",
    "\n",
    "And that's when they realized the irony. Jim's watch was now useless without the chain, and Della's combs were of no use without her hair. They had sacrificed their most precious possessions for each other, only to find that fate had played a cruel trick on them.\n",
    "\n",
    "Yet, in that moment, they understood the true meaning of love. Their sacrifices were not in vain. Their love was the greatest gift of all. They laughed and cried, holding each other tightly. The magi—the wise men who brought gifts to the baby Jesus—would have been proud of them.\n",
    "\n",
    "And so, in that humble apartment, Jim and Della celebrated a Christmas unlike any other. They were magi themselves, giving selflessly and receiving with open hearts. Their love transcended material possessions, and they knew they were richer than kings.\n",
    "\"\"\"\n",
    "\n",
    "reference_summary = \"\"\"\n",
    "In “The Gift of the Magi,” Jim and Della, a struggling young couple, sacrifice their most cherished possessions to buy gifts for each other. Della sells her hair to buy Jim a fob chain for his pocket watch, while Jim sells the watch to buy Della combs for her hair. On Christmas Eve, they discover the irony of their gifts but realize that their love is the true treasure. It's a timeless tale of selflessness and the magic of love.\n",
    "\"\"\"\n"
   ]
  },
  {
   "cell_type": "code",
   "execution_count": 14,
   "metadata": {},
   "outputs": [],
   "source": [
    "text = \"\"\"\n",
    "Natural Language Generation (NLG) technologies has always been inspired by advances in cloud computing. A well-known idea in NLG is Textrank that applies the Pagerank algorithm to natural language models: https://web.eecs.umich.edu/~mihalcea/papers/mihalcea.emnlp04.pdf.\n",
    "This project will be an in-depth study of TextRank. You can implement TextRank using a single machine programming model or a distributed system programming model (e.g., MapReduce/Spark/serverless programming). Study how the parameters of the PageRank\n",
    "           \n",
    "algorithm affect the performance of NLG. Try to explore large state spaces and evaluate its performance. Can you design a SaaS or PaaS for NLG application using TextRank?\n",
    "\"\"\"\n",
    "\n",
    "reference_summary = \"\"\"\n",
    "\n",
    "\n",
    "\"\"\""
   ]
  },
  {
   "cell_type": "code",
   "execution_count": 2,
   "metadata": {},
   "outputs": [],
   "source": [
    "text = \"\"\"\n",
    "Human and animal history often leaves scientists with many questions. But perhaps the relationship between dogs and people is most confusing to researchers. Dogs came from wolves. Scientists believe that evolution happened some 15,000 to 30,000 years ago. How, though, is still unknown. \n",
    "\n",
    "A new study involved the DNA of 72 ancient wolf populations. The study answers a bit of that question. It now seems that dogs evolved from two different ancient wolf groups. One was in Asia. The other was in the Middle East.\n",
    "\n",
    "Experts don't really know how that happened.\n",
    "\n",
    "“We don't know where it happened, what was the human group that did this, did it happen once or multiple times and so on,\" Anders Bergström told The Guardian. He authored the research. “So it remains one of the big mysteries in human prehistory.\"\n",
    "\n",
    "Bergström explained that most animals were domesticated after people started to farm. So, ancient man's friendly terms with wolves troubles scientists. “I think it is a very fascinating thing that humans back in the ice age would have gone out and formed this relationship with this fierce predator.\"\n",
    "\n",
    "The study concludes that wolves may have evolved twice in those two locations. Then, those groups mixed over time. Humans might have helped. Another theory holds that wolves attached to humans in Asia. Then, they bred with a separate population somewhere in the Middle East or Europe. Eventually, the wolves turned into the playful, domesticated pets of today.  \n",
    "\"\"\"\n",
    "\n",
    "reference_summary = \"\"\"\n",
    "\n",
    "\"\"\""
   ]
  },
  {
   "cell_type": "code",
   "execution_count": 21,
   "metadata": {},
   "outputs": [],
   "source": [
    "# Straits Times article\n",
    "text = \"\"\"\n",
    "Relationship journeys, friendship break-ups and workplace drama - never have I ever been more invested in the lives of strangers on social media.\n",
    "As a self-confessed lurker on social media - an internet user who passively observes what others have put up online - I have found myself thinking about random content creators who have given me so much access to vulnerable, personal details of themselves.\n",
    "\n",
    "Between the public apologies and traumatic meltdowns being recorded for social media, are personal stories no longer for just our close friends or families?\n",
    "\n",
    "Fascinated by how social media has blurred the line between what we share in public and private, I sat down for Episode 2 of The Usual Place - a new podcast series by The Straits Times - with content creators Candice Gallagher and Shaun Elias Chua, and Twitch streamer Jacey Vong.\n",
    "\n",
    "For a start, I asked them what was the most personal thing they have ever shared on social media.\n",
    "\n",
    "Candice, who works in marketing, said documenting her egg freezing process in the UK in 2023 made her feel very exposed. She documented the two-week process on her social media account. She said it was “physically, emotionally and financially demanding\".\n",
    "\n",
    "On her TikTok account, Candice Gallagher gets personal with her viewers about topics such as her dating experiences and undergoing egg freezing. She says it is worth it if her experiences can even “help one person\". ST PHOTO: DESMOND WEE\n",
    "Still, she was spurred on to tell her story.\n",
    "\n",
    "“When I'm sharing really personal things like the egg freezing, or even my experience dating, if I can help one person, it's a 100 per cent worth it to me,\" said Candice, who has close to 80,000 followers on TikTok.\n",
    "\n",
    "Shaun, a marketing and design executive, used social media to come out to his grandmother. He said he did so as he was ready to enter into a relationship.\n",
    "\n",
    "While he did not end up dating the guy, Shaun  who has about 23,000 followers on TikTok and 3,600 followers on Instagram - realised there are many others out there like him who struggle to understand their sexuality.\n",
    "\n",
    "He hopes to use the platform to share his own journey of discovering his true identity.\n",
    "\n",
    "Jacey, who has a day job as a legal counsel, struck me as a reluctant sharer.\n",
    "\n",
    "With about 25,000 followers on Twitch, where she live-streams herself playing video games, and another 18,000 on Instagram, Jacey said she shared about the trauma she experienced growing up because her viewers asked her about it.\n",
    "\n",
    "“Usually with livestreaming, I think I will take whatever the audience throws to me,\" she said. “I just felt like I had to answer them, (but) it turned out to be a quite interesting content idea that was not planned at all.\"\n",
    "\n",
    "Opening themselves up online means that the trio enjoy the community, but also, at times, have to deal with haters, trauma dumping from followers, xenophobic comments and even a stalker.\n",
    "\n",
    "Recently, Jacey met a viewer who turned up uninvited at her house. She had to tell him to leave because his presence made her feel uncomfortable.\n",
    "\n",
    "As someone who often shares online about his faith and sexuality, Shaun found himself replying to others who are going through the same issues as him.\n",
    "\n",
    "He added: “I do feel for them, but I need to remind myself that I'm not the one who will change things for them.\"\n",
    "\n",
    "Candice has no problems with viewers who disagree with her, but she added that they should offer constructive criticism, rather than dish out offhand comments or slurs that try to tear her down.\n",
    "\n",
    "One thing that is comforting to her, is how others will stand up for her in comment threads. “A lot of the times, if there's a crappy comment, I don't even have to say anything because somebody else will come in with a countering perspective.\n",
    "“And then I think it's healthy dialogue in the comments section.\" \n",
    "So where is the line between a healthy amount of personal information and oversharing?\n",
    "As Candice put it: “I reject this concept of oversharing. It's in the eye of the beholder.\"\n",
    "\"\"\"\n",
    "\n",
    "reference_summary = \"\"\"\n",
    "\n",
    "\"\"\"\n"
   ]
  },
  {
   "cell_type": "markdown",
   "metadata": {},
   "source": [
    "# Preprocess Text"
   ]
  },
  {
   "cell_type": "code",
   "execution_count": 32,
   "metadata": {},
   "outputs": [],
   "source": [
    "# Tokenize sentences\n",
    "sentences = sent_tokenize(text)\n",
    "\n",
    "# Preprocess sentences\n",
    "stop_words = set(stopwords.words(\"english\"))\n",
    "preprocessed_sentences = []\n",
    "for sentence in sentences:\n",
    "    words = word_tokenize(sentence.lower())\n",
    "    words = [word for word in words if word.isalnum() and word not in stop_words]\n",
    "    preprocessed_sentences.append(\" \".join(words))"
   ]
  },
  {
   "cell_type": "markdown",
   "metadata": {},
   "source": [
    "# Create Graph"
   ]
  },
  {
   "cell_type": "code",
   "execution_count": 33,
   "metadata": {},
   "outputs": [],
   "source": [
    "# Vectorize, create similarity matrix and graph\n",
    "vectorizer = TfidfVectorizer()\n",
    "tfidf_matrix = vectorizer.fit_transform(preprocessed_sentences)\n",
    "similarity_matrix = (tfidf_matrix * tfidf_matrix.T).A\n",
    "graph = nx.from_numpy_array(similarity_matrix)"
   ]
  },
  {
   "cell_type": "markdown",
   "metadata": {},
   "source": [
    "# Implement TextRank Scores"
   ]
  },
  {
   "cell_type": "code",
   "execution_count": 34,
   "metadata": {},
   "outputs": [],
   "source": [
    "# Apply PageRank\n",
    "pagerank_scores = nx.pagerank(graph, alpha=0.85, max_iter=100)\n",
    "\n",
    "# Sort sentences by score\n",
    "sorted_sentences = sorted(pagerank_scores, key=pagerank_scores.get, reverse=True)\n",
    "\n",
    "# Extract top N sentences as summary\n",
    "N = math.floor(len(sorted_sentences)*0.3)  # Change this value as needed\n",
    "summary = \" \".join([sentences[i] for i in sorted_sentences[:N]])\n"
   ]
  },
  {
   "cell_type": "markdown",
   "metadata": {},
   "source": [
    "# Print summary"
   ]
  },
  {
   "cell_type": "code",
   "execution_count": 35,
   "metadata": {},
   "outputs": [
    {
     "name": "stdout",
     "output_type": "stream",
     "text": [
      "TextRank Summary:\n",
      "As Christmas approached, Della knew she had to find the perfect gift for Jim. On Christmas Eve, Jim and Della exchanged their gifts. Jim's watch was now useless without the chain, and Della's combs were of no use without her hair. Della presented the fob chain to Jim, and he was speechless. And so, in that humble apartment, Jim and Della celebrated a Christmas unlike any other. Their love was their greatest treasure, but they longed to give each other special gifts for Christmas. Their love was the greatest gift of all. With the money she received, she went to a jeweler and purchased a platinum fob chain for Jim's pocket watch. Della's eyes widened with joy.\n"
     ]
    }
   ],
   "source": [
    "print(\"TextRank Summary:\")\n",
    "print(summary)  "
   ]
  },
  {
   "cell_type": "markdown",
   "metadata": {},
   "source": [
    "# Test Metrics\n"
   ]
  },
  {
   "cell_type": "code",
   "execution_count": 36,
   "metadata": {},
   "outputs": [],
   "source": [
    "import torchmetrics\n",
    "from torchmetrics.text.rouge import ROUGEScore\n",
    "\n",
    "metric = ROUGEScore()\n",
    "metric.update(summary, reference_summary)\n",
    "fig_, ax_ = metric.plot()"
   ]
  },
  {
   "cell_type": "markdown",
   "metadata": {},
   "source": [
    "# SaaS Integration with AWS Lambda\n"
   ]
  },
  {
   "cell_type": "code",
   "execution_count": 37,
   "metadata": {},
   "outputs": [
    {
     "data": {
      "text/plain": [
       "\"As Christmas approached, Della knew she had to find the perfect gift for Jim. On Christmas Eve, Jim and Della exchanged their gifts. Jim's watch was now useless without the chain, and Della's combs were of no use without her hair. Della presented the fob chain to Jim, and he was speechless. And so, in that humble apartment, Jim and Della celebrated a Christmas unlike any other. Their love was their greatest treasure, but they longed to give each other special gifts for Christmas. Their love was the greatest gift of all. With the money she received, she went to a jeweler and purchased a platinum fob chain for Jim's pocket watch. Della's eyes widened with joy.\""
      ]
     },
     "execution_count": 37,
     "metadata": {},
     "output_type": "execute_result"
    }
   ],
   "source": [
    "import requests\n",
    "\n",
    "# AWS API Endpoint\n",
    "api_endpoint = \"https://9ss0r8k9l6.execute-api.ap-southeast-2.amazonaws.com\"\n",
    "\n",
    "def invoke_api(input_text):\n",
    "    try:\n",
    "        payload = {\"text\": input_text}\n",
    "        response = requests.post(api_endpoint, json=payload)\n",
    "\n",
    "        if response.status_code == 200:\n",
    "            result = response.json()\n",
    "            summary = result.get(\"summary\")\n",
    "            print(f\"Summary: {summary}\")\n",
    "        else:\n",
    "            print(f\"Error: {response.status_code} - {response.text}\")\n",
    "\n",
    "    except Exception as e:\n",
    "        print(f\"Error: {e}\")\n",
    "\n",
    "# Invoke on text\n",
    "invoke_api(text)"
   ]
  },
  {
   "cell_type": "code",
   "execution_count": null,
   "metadata": {},
   "outputs": [],
   "source": []
  }
 ],
 "metadata": {
  "kernelspec": {
   "display_name": "hp",
   "language": "python",
   "name": "python3"
  },
  "language_info": {
   "codemirror_mode": {
    "name": "ipython",
    "version": 3
   },
   "file_extension": ".py",
   "mimetype": "text/x-python",
   "name": "python",
   "nbconvert_exporter": "python",
   "pygments_lexer": "ipython3",
   "version": "3.12.2"
  }
 },
 "nbformat": 4,
 "nbformat_minor": 2
}
